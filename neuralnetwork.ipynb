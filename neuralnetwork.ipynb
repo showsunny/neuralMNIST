{
  "nbformat": 4,
  "nbformat_minor": 0,
  "metadata": {
    "colab": {
      "provenance": []
    },
    "kernelspec": {
      "name": "python3",
      "display_name": "Python 3"
    },
    "language_info": {
      "name": "python"
    }
  },
  "cells": [
    {
      "cell_type": "code",
      "execution_count": 1,
      "metadata": {
        "id": "sakSwPyERrdG"
      },
      "outputs": [],
      "source": [
        "import numpy as np\n",
        "import pandas as pd\n",
        "from matplotlib import pyplot as plt\n",
        "import random\n",
        "from tqdm import tqdm\n",
        "from model.neuralMNIST import NeuralNetwork\n",
        "from model.neuralMNIST import CategoryEntropy\n",
        "from model.neuralMNIST import sparse_to_one_hot"
      ]
    },
    {
      "cell_type": "code",
      "source": [
        "train_data = pd.read_csv(\"/content/sample_data/mnist_train_small.csv\")\n",
        "train_images = train_data.iloc[:, 1:].values    #   shape(19999, 1, 28, 28)\n",
        "train_labels = train_data.iloc[:, 0].values\n",
        "print(train_images.shape)\n",
        "print(train_labels[0])"
      ],
      "metadata": {
        "colab": {
          "base_uri": "https://localhost:8080/"
        },
        "id": "M51D3HztTzdP",
        "outputId": "aaaf089a-a3bd-4bf4-9304-04840b48594b"
      },
      "execution_count": 2,
      "outputs": [
        {
          "output_type": "stream",
          "name": "stdout",
          "text": [
            "(19999, 784)\n",
            "5\n"
          ]
        }
      ]
    },
    {
      "cell_type": "code",
      "source": [
        "test_datanlabel = pd.read_csv(\"/content/sample_data/mnist_test.csv\")\n",
        "test_images = test_datanlabel.iloc[:, 1:].values    #   shape(19999, 1, 28, 28)\n",
        "test_labels = test_datanlabel.iloc[:, 0].values\n",
        "\n",
        "print(test_images.shape)\n",
        "print(test_labels[0])"
      ],
      "metadata": {
        "colab": {
          "base_uri": "https://localhost:8080/"
        },
        "id": "aioxyQnIW4tw",
        "outputId": "812a71fc-dcc7-486e-8a06-bab062cbebb5"
      },
      "execution_count": 3,
      "outputs": [
        {
          "output_type": "stream",
          "name": "stdout",
          "text": [
            "(9999, 784)\n",
            "2\n"
          ]
        }
      ]
    },
    {
      "cell_type": "code",
      "source": [
        "myNeuralNet = NeuralNetwork(input_size=28*28, hidden_layers=[512, 512], output_size=10)"
      ],
      "metadata": {
        "id": "7Ep5JARoT5hc"
      },
      "execution_count": 4,
      "outputs": []
    },
    {
      "cell_type": "code",
      "source": [
        "data = train_images\n",
        "datalabels = train_labels\n",
        "\n",
        "data = (data.astype(np.float32)-127.5) / 127.5\n",
        "accuracies = []\n",
        "losses = []\n",
        "\n",
        "BATCH_SIZE = 32\n",
        "\n",
        "\n",
        "for epoch in range(1, 10):\n",
        "    train_steps = len(data) // BATCH_SIZE\n",
        "\n",
        "    for step in tqdm(range(train_steps), desc=f'Epoch {epoch}'):\n",
        "        batch_X = data[step * BATCH_SIZE:(step + 1) * BATCH_SIZE]\n",
        "        batch_y = datalabels[step * BATCH_SIZE:(step + 1) * BATCH_SIZE]\n",
        "\n",
        "        X = batch_X\n",
        "        y = batch_y\n",
        "        output = myNeuralNet.forward(X)\n",
        "\n",
        "        if step % 100 == 0:\n",
        "            predictions = np.argmax(output, axis=1)\n",
        "            if len(y.shape) == 2:\n",
        "                y = np.argmax(y, axis=1)\n",
        "            accuracy = np.mean(predictions == y)\n",
        "            loss = CategoryEntropy(output, sparse_to_one_hot(y, 10))\n",
        "            accuracies.append(accuracy)\n",
        "            losses.append(loss)\n",
        "\n",
        "            print(f'epoch:{epoch}, acc: {accuracy:.3f}, loss: {loss:.3f}')\n",
        "\n",
        "        myNeuralNet.backwards(y)\n",
        "        myNeuralNet.updateParams(lr=0.01, decay=1e-2)\n",
        "        myNeuralNet.gradientsWeights = []\n",
        "        myNeuralNet.gradientsBiases = []"
      ],
      "metadata": {
        "colab": {
          "base_uri": "https://localhost:8080/"
        },
        "id": "kIfp255tUAEf",
        "outputId": "6797a0c1-1eab-4357-8b66-a574898fac9a"
      },
      "execution_count": 5,
      "outputs": [
        {
          "output_type": "stream",
          "name": "stderr",
          "text": [
            "Epoch 1:   1%|          | 7/624 [00:00<00:09, 64.79it/s]"
          ]
        },
        {
          "output_type": "stream",
          "name": "stdout",
          "text": [
            "epoch:1, acc: 0.188, loss: 2.294\n"
          ]
        },
        {
          "output_type": "stream",
          "name": "stderr",
          "text": [
            "Epoch 1:  18%|█▊        | 112/624 [00:01<00:06, 81.40it/s]"
          ]
        },
        {
          "output_type": "stream",
          "name": "stdout",
          "text": [
            "epoch:1, acc: 0.312, loss: 2.208\n"
          ]
        },
        {
          "output_type": "stream",
          "name": "stderr",
          "text": [
            "Epoch 1:  34%|███▍      | 214/624 [00:02<00:04, 85.21it/s]"
          ]
        },
        {
          "output_type": "stream",
          "name": "stdout",
          "text": [
            "epoch:1, acc: 0.469, loss: 2.139\n"
          ]
        },
        {
          "output_type": "stream",
          "name": "stderr",
          "text": [
            "Epoch 1:  51%|█████     | 316/624 [00:03<00:03, 95.49it/s]"
          ]
        },
        {
          "output_type": "stream",
          "name": "stdout",
          "text": [
            "epoch:1, acc: 0.531, loss: 2.039\n"
          ]
        },
        {
          "output_type": "stream",
          "name": "stderr",
          "text": [
            "Epoch 1:  67%|██████▋   | 420/624 [00:04<00:02, 98.03it/s]"
          ]
        },
        {
          "output_type": "stream",
          "name": "stdout",
          "text": [
            "epoch:1, acc: 0.625, loss: 2.017\n"
          ]
        },
        {
          "output_type": "stream",
          "name": "stderr",
          "text": [
            "Epoch 1:  82%|████████▏ | 513/624 [00:05<00:01, 97.41it/s]"
          ]
        },
        {
          "output_type": "stream",
          "name": "stdout",
          "text": [
            "epoch:1, acc: 0.688, loss: 1.864\n"
          ]
        },
        {
          "output_type": "stream",
          "name": "stderr",
          "text": [
            "Epoch 1:  97%|█████████▋| 608/624 [00:07<00:00, 52.90it/s]"
          ]
        },
        {
          "output_type": "stream",
          "name": "stdout",
          "text": [
            "epoch:1, acc: 0.469, loss: 1.848\n"
          ]
        },
        {
          "output_type": "stream",
          "name": "stderr",
          "text": [
            "Epoch 1: 100%|██████████| 624/624 [00:07<00:00, 79.55it/s]\n",
            "Epoch 2:   1%|          | 4/624 [00:00<00:15, 38.79it/s]"
          ]
        },
        {
          "output_type": "stream",
          "name": "stdout",
          "text": [
            "epoch:2, acc: 0.500, loss: 1.844\n"
          ]
        },
        {
          "output_type": "stream",
          "name": "stderr",
          "text": [
            "Epoch 2:  17%|█▋        | 105/624 [00:02<00:12, 41.53it/s]"
          ]
        },
        {
          "output_type": "stream",
          "name": "stdout",
          "text": [
            "epoch:2, acc: 0.688, loss: 1.632\n"
          ]
        },
        {
          "output_type": "stream",
          "name": "stderr",
          "text": [
            "Epoch 2:  33%|███▎      | 208/624 [00:03<00:04, 92.54it/s]"
          ]
        },
        {
          "output_type": "stream",
          "name": "stdout",
          "text": [
            "epoch:2, acc: 0.688, loss: 1.638\n"
          ]
        },
        {
          "output_type": "stream",
          "name": "stderr",
          "text": [
            "Epoch 2:  50%|█████     | 315/624 [00:04<00:03, 80.19it/s]"
          ]
        },
        {
          "output_type": "stream",
          "name": "stdout",
          "text": [
            "epoch:2, acc: 0.719, loss: 1.541\n"
          ]
        },
        {
          "output_type": "stream",
          "name": "stderr",
          "text": [
            "Epoch 2:  66%|██████▌   | 411/624 [00:05<00:02, 89.48it/s]"
          ]
        },
        {
          "output_type": "stream",
          "name": "stdout",
          "text": [
            "epoch:2, acc: 0.719, loss: 1.590\n"
          ]
        },
        {
          "output_type": "stream",
          "name": "stderr",
          "text": [
            "Epoch 2:  82%|████████▏ | 511/624 [00:07<00:01, 89.52it/s]"
          ]
        },
        {
          "output_type": "stream",
          "name": "stdout",
          "text": [
            "epoch:2, acc: 0.750, loss: 1.403\n"
          ]
        },
        {
          "output_type": "stream",
          "name": "stderr",
          "text": [
            "Epoch 2:  98%|█████████▊| 610/624 [00:08<00:00, 85.09it/s]"
          ]
        },
        {
          "output_type": "stream",
          "name": "stdout",
          "text": [
            "epoch:2, acc: 0.562, loss: 1.495\n"
          ]
        },
        {
          "output_type": "stream",
          "name": "stderr",
          "text": [
            "Epoch 2: 100%|██████████| 624/624 [00:08<00:00, 74.38it/s]\n",
            "Epoch 3:   2%|▏         | 10/624 [00:00<00:06, 97.13it/s]"
          ]
        },
        {
          "output_type": "stream",
          "name": "stdout",
          "text": [
            "epoch:3, acc: 0.594, loss: 1.481\n"
          ]
        },
        {
          "output_type": "stream",
          "name": "stderr",
          "text": [
            "Epoch 3:  19%|█▊        | 116/624 [00:01<00:05, 89.76it/s]"
          ]
        },
        {
          "output_type": "stream",
          "name": "stdout",
          "text": [
            "epoch:3, acc: 0.781, loss: 1.253\n"
          ]
        },
        {
          "output_type": "stream",
          "name": "stderr",
          "text": [
            "Epoch 3:  34%|███▍      | 212/624 [00:02<00:04, 93.23it/s]"
          ]
        },
        {
          "output_type": "stream",
          "name": "stdout",
          "text": [
            "epoch:3, acc: 0.750, loss: 1.312\n"
          ]
        },
        {
          "output_type": "stream",
          "name": "stderr",
          "text": [
            "Epoch 3:  50%|████▉     | 311/624 [00:03<00:03, 86.12it/s]"
          ]
        },
        {
          "output_type": "stream",
          "name": "stdout",
          "text": [
            "epoch:3, acc: 0.750, loss: 1.240\n"
          ]
        },
        {
          "output_type": "stream",
          "name": "stderr",
          "text": [
            "Epoch 3:  65%|██████▍   | 403/624 [00:05<00:04, 47.43it/s]"
          ]
        },
        {
          "output_type": "stream",
          "name": "stdout",
          "text": [
            "epoch:3, acc: 0.750, loss: 1.345\n"
          ]
        },
        {
          "output_type": "stream",
          "name": "stderr",
          "text": [
            "Epoch 3:  83%|████████▎ | 517/624 [00:08<00:01, 63.73it/s]"
          ]
        },
        {
          "output_type": "stream",
          "name": "stdout",
          "text": [
            "epoch:3, acc: 0.844, loss: 1.140\n"
          ]
        },
        {
          "output_type": "stream",
          "name": "stderr",
          "text": [
            "Epoch 3:  98%|█████████▊| 614/624 [00:09<00:00, 81.50it/s]"
          ]
        },
        {
          "output_type": "stream",
          "name": "stdout",
          "text": [
            "epoch:3, acc: 0.594, loss: 1.302\n"
          ]
        },
        {
          "output_type": "stream",
          "name": "stderr",
          "text": [
            "Epoch 3: 100%|██████████| 624/624 [00:10<00:00, 62.36it/s]\n",
            "Epoch 4:   2%|▏         | 11/624 [00:00<00:05, 108.37it/s]"
          ]
        },
        {
          "output_type": "stream",
          "name": "stdout",
          "text": [
            "epoch:4, acc: 0.625, loss: 1.270\n"
          ]
        },
        {
          "output_type": "stream",
          "name": "stderr",
          "text": [
            "Epoch 4:  19%|█▊        | 116/624 [00:01<00:05, 92.51it/s]"
          ]
        },
        {
          "output_type": "stream",
          "name": "stdout",
          "text": [
            "epoch:4, acc: 0.812, loss: 1.058\n"
          ]
        },
        {
          "output_type": "stream",
          "name": "stderr",
          "text": [
            "Epoch 4:  35%|███▌      | 219/624 [00:02<00:04, 94.48it/s]"
          ]
        },
        {
          "output_type": "stream",
          "name": "stdout",
          "text": [
            "epoch:4, acc: 0.781, loss: 1.135\n"
          ]
        },
        {
          "output_type": "stream",
          "name": "stderr",
          "text": [
            "Epoch 4:  50%|████▉     | 311/624 [00:03<00:03, 89.77it/s]"
          ]
        },
        {
          "output_type": "stream",
          "name": "stdout",
          "text": [
            "epoch:4, acc: 0.781, loss: 1.075\n"
          ]
        },
        {
          "output_type": "stream",
          "name": "stderr",
          "text": [
            "Epoch 4:  67%|██████▋   | 416/624 [00:04<00:02, 99.52it/s]"
          ]
        },
        {
          "output_type": "stream",
          "name": "stdout",
          "text": [
            "epoch:4, acc: 0.750, loss: 1.209\n"
          ]
        },
        {
          "output_type": "stream",
          "name": "stderr",
          "text": [
            "Epoch 4:  82%|████████▏ | 512/624 [00:05<00:01, 98.94it/s]"
          ]
        },
        {
          "output_type": "stream",
          "name": "stdout",
          "text": [
            "epoch:4, acc: 0.844, loss: 0.988\n"
          ]
        },
        {
          "output_type": "stream",
          "name": "stderr",
          "text": [
            "Epoch 4:  98%|█████████▊| 614/624 [00:06<00:00, 94.98it/s]"
          ]
        },
        {
          "output_type": "stream",
          "name": "stdout",
          "text": [
            "epoch:4, acc: 0.625, loss: 1.188\n"
          ]
        },
        {
          "output_type": "stream",
          "name": "stderr",
          "text": [
            "Epoch 4: 100%|██████████| 624/624 [00:06<00:00, 93.91it/s]\n",
            "Epoch 5:   2%|▏         | 10/624 [00:00<00:06, 92.65it/s]"
          ]
        },
        {
          "output_type": "stream",
          "name": "stdout",
          "text": [
            "epoch:5, acc: 0.625, loss: 1.144\n"
          ]
        },
        {
          "output_type": "stream",
          "name": "stderr",
          "text": [
            "Epoch 5:  18%|█▊        | 110/624 [00:01<00:05, 93.68it/s]"
          ]
        },
        {
          "output_type": "stream",
          "name": "stdout",
          "text": [
            "epoch:5, acc: 0.812, loss: 0.947\n"
          ]
        },
        {
          "output_type": "stream",
          "name": "stderr",
          "text": [
            "Epoch 5:  33%|███▎      | 206/624 [00:03<00:08, 51.05it/s]"
          ]
        },
        {
          "output_type": "stream",
          "name": "stdout",
          "text": [
            "epoch:5, acc: 0.781, loss: 1.028\n"
          ]
        },
        {
          "output_type": "stream",
          "name": "stderr",
          "text": [
            "Epoch 5:  51%|█████     | 319/624 [00:05<00:03, 78.41it/s]"
          ]
        },
        {
          "output_type": "stream",
          "name": "stdout",
          "text": [
            "epoch:5, acc: 0.812, loss: 0.975\n"
          ]
        },
        {
          "output_type": "stream",
          "name": "stderr",
          "text": [
            "Epoch 5:  67%|██████▋   | 419/624 [00:06<00:02, 94.21it/s]"
          ]
        },
        {
          "output_type": "stream",
          "name": "stdout",
          "text": [
            "epoch:5, acc: 0.750, loss: 1.126\n"
          ]
        },
        {
          "output_type": "stream",
          "name": "stderr",
          "text": [
            "Epoch 5:  83%|████████▎ | 519/624 [00:07<00:01, 95.31it/s]"
          ]
        },
        {
          "output_type": "stream",
          "name": "stdout",
          "text": [
            "epoch:5, acc: 0.875, loss: 0.891\n"
          ]
        },
        {
          "output_type": "stream",
          "name": "stderr",
          "text": [
            "Epoch 5:  98%|█████████▊| 610/624 [00:08<00:00, 95.70it/s]"
          ]
        },
        {
          "output_type": "stream",
          "name": "stdout",
          "text": [
            "epoch:5, acc: 0.656, loss: 1.114\n"
          ]
        },
        {
          "output_type": "stream",
          "name": "stderr",
          "text": [
            "Epoch 5: 100%|██████████| 624/624 [00:08<00:00, 72.69it/s]\n",
            "Epoch 6:   2%|▏         | 11/624 [00:00<00:05, 104.91it/s]"
          ]
        },
        {
          "output_type": "stream",
          "name": "stdout",
          "text": [
            "epoch:6, acc: 0.719, loss: 1.061\n"
          ]
        },
        {
          "output_type": "stream",
          "name": "stderr",
          "text": [
            "Epoch 6:  18%|█▊        | 115/624 [00:01<00:05, 97.22it/s]"
          ]
        },
        {
          "output_type": "stream",
          "name": "stdout",
          "text": [
            "epoch:6, acc: 0.812, loss: 0.876\n"
          ]
        },
        {
          "output_type": "stream",
          "name": "stderr",
          "text": [
            "Epoch 6:  35%|███▌      | 219/624 [00:02<00:04, 93.97it/s]"
          ]
        },
        {
          "output_type": "stream",
          "name": "stdout",
          "text": [
            "epoch:6, acc: 0.781, loss: 0.957\n"
          ]
        },
        {
          "output_type": "stream",
          "name": "stderr",
          "text": [
            "Epoch 6:  50%|████▉     | 310/624 [00:03<00:03, 93.13it/s]"
          ]
        },
        {
          "output_type": "stream",
          "name": "stdout",
          "text": [
            "epoch:6, acc: 0.844, loss: 0.909\n"
          ]
        },
        {
          "output_type": "stream",
          "name": "stderr",
          "text": [
            "Epoch 6:  66%|██████▌   | 411/624 [00:04<00:02, 87.45it/s]"
          ]
        },
        {
          "output_type": "stream",
          "name": "stdout",
          "text": [
            "epoch:6, acc: 0.750, loss: 1.069\n"
          ]
        },
        {
          "output_type": "stream",
          "name": "stderr",
          "text": [
            "Epoch 6:  82%|████████▏ | 511/624 [00:05<00:01, 85.59it/s]"
          ]
        },
        {
          "output_type": "stream",
          "name": "stdout",
          "text": [
            "epoch:6, acc: 0.906, loss: 0.823\n"
          ]
        },
        {
          "output_type": "stream",
          "name": "stderr",
          "text": [
            "Epoch 6:  96%|█████████▌| 600/624 [00:06<00:00, 64.91it/s]"
          ]
        },
        {
          "output_type": "stream",
          "name": "stdout",
          "text": [
            "epoch:6, acc: 0.656, loss: 1.061\n"
          ]
        },
        {
          "output_type": "stream",
          "name": "stderr",
          "text": [
            "Epoch 6: 100%|██████████| 624/624 [00:07<00:00, 85.72it/s]\n",
            "Epoch 7:   1%|          | 6/624 [00:00<00:10, 57.43it/s]"
          ]
        },
        {
          "output_type": "stream",
          "name": "stdout",
          "text": [
            "epoch:7, acc: 0.688, loss: 1.001\n"
          ]
        },
        {
          "output_type": "stream",
          "name": "stderr",
          "text": [
            "Epoch 7:  17%|█▋        | 108/624 [00:02<00:11, 43.91it/s]"
          ]
        },
        {
          "output_type": "stream",
          "name": "stdout",
          "text": [
            "epoch:7, acc: 0.812, loss: 0.826\n"
          ]
        },
        {
          "output_type": "stream",
          "name": "stderr",
          "text": [
            "Epoch 7:  35%|███▍      | 218/624 [00:03<00:04, 89.72it/s]"
          ]
        },
        {
          "output_type": "stream",
          "name": "stdout",
          "text": [
            "epoch:7, acc: 0.781, loss: 0.906\n"
          ]
        },
        {
          "output_type": "stream",
          "name": "stderr",
          "text": [
            "Epoch 7:  51%|█████     | 318/624 [00:04<00:03, 93.17it/s]"
          ]
        },
        {
          "output_type": "stream",
          "name": "stdout",
          "text": [
            "epoch:7, acc: 0.844, loss: 0.861\n"
          ]
        },
        {
          "output_type": "stream",
          "name": "stderr",
          "text": [
            "Epoch 7:  66%|██████▌   | 413/624 [00:05<00:02, 95.38it/s]"
          ]
        },
        {
          "output_type": "stream",
          "name": "stdout",
          "text": [
            "epoch:7, acc: 0.750, loss: 1.029\n"
          ]
        },
        {
          "output_type": "stream",
          "name": "stderr",
          "text": [
            "Epoch 7:  83%|████████▎ | 517/624 [00:06<00:01, 95.44it/s]"
          ]
        },
        {
          "output_type": "stream",
          "name": "stdout",
          "text": [
            "epoch:7, acc: 0.906, loss: 0.773\n"
          ]
        },
        {
          "output_type": "stream",
          "name": "stderr",
          "text": [
            "Epoch 7:  98%|█████████▊| 610/624 [00:07<00:00, 93.99it/s]"
          ]
        },
        {
          "output_type": "stream",
          "name": "stdout",
          "text": [
            "epoch:7, acc: 0.656, loss: 1.020\n"
          ]
        },
        {
          "output_type": "stream",
          "name": "stderr",
          "text": [
            "Epoch 7: 100%|██████████| 624/624 [00:08<00:00, 77.32it/s]\n",
            "Epoch 8:   2%|▏         | 11/624 [00:00<00:05, 103.59it/s]"
          ]
        },
        {
          "output_type": "stream",
          "name": "stdout",
          "text": [
            "epoch:8, acc: 0.656, loss: 0.957\n"
          ]
        },
        {
          "output_type": "stream",
          "name": "stderr",
          "text": [
            "Epoch 8:  19%|█▊        | 116/624 [00:01<00:05, 93.45it/s]"
          ]
        },
        {
          "output_type": "stream",
          "name": "stdout",
          "text": [
            "epoch:8, acc: 0.812, loss: 0.790\n"
          ]
        },
        {
          "output_type": "stream",
          "name": "stderr",
          "text": [
            "Epoch 8:  34%|███▍      | 211/624 [00:02<00:04, 92.17it/s]"
          ]
        },
        {
          "output_type": "stream",
          "name": "stdout",
          "text": [
            "epoch:8, acc: 0.781, loss: 0.867\n"
          ]
        },
        {
          "output_type": "stream",
          "name": "stderr",
          "text": [
            "Epoch 8:  50%|█████     | 315/624 [00:03<00:03, 97.61it/s]"
          ]
        },
        {
          "output_type": "stream",
          "name": "stdout",
          "text": [
            "epoch:8, acc: 0.844, loss: 0.826\n"
          ]
        },
        {
          "output_type": "stream",
          "name": "stderr",
          "text": [
            "Epoch 8:  67%|██████▋   | 418/624 [00:04<00:02, 96.29it/s]"
          ]
        },
        {
          "output_type": "stream",
          "name": "stdout",
          "text": [
            "epoch:8, acc: 0.750, loss: 0.998\n"
          ]
        },
        {
          "output_type": "stream",
          "name": "stderr",
          "text": [
            "Epoch 8:  81%|████████  | 505/624 [00:05<00:02, 52.86it/s]"
          ]
        },
        {
          "output_type": "stream",
          "name": "stdout",
          "text": [
            "epoch:8, acc: 0.906, loss: 0.734\n"
          ]
        },
        {
          "output_type": "stream",
          "name": "stderr",
          "text": [
            "Epoch 8:  97%|█████████▋| 608/624 [00:08<00:00, 46.25it/s]"
          ]
        },
        {
          "output_type": "stream",
          "name": "stdout",
          "text": [
            "epoch:8, acc: 0.688, loss: 0.988\n"
          ]
        },
        {
          "output_type": "stream",
          "name": "stderr",
          "text": [
            "Epoch 8: 100%|██████████| 624/624 [00:08<00:00, 73.35it/s]\n",
            "Epoch 9:   3%|▎         | 20/624 [00:00<00:06, 99.20it/s]"
          ]
        },
        {
          "output_type": "stream",
          "name": "stdout",
          "text": [
            "epoch:9, acc: 0.656, loss: 0.922\n"
          ]
        },
        {
          "output_type": "stream",
          "name": "stderr",
          "text": [
            "Epoch 9:  18%|█▊        | 114/624 [00:01<00:05, 97.49it/s]"
          ]
        },
        {
          "output_type": "stream",
          "name": "stdout",
          "text": [
            "epoch:9, acc: 0.812, loss: 0.761\n"
          ]
        },
        {
          "output_type": "stream",
          "name": "stderr",
          "text": [
            "Epoch 9:  35%|███▌      | 219/624 [00:02<00:04, 96.58it/s]"
          ]
        },
        {
          "output_type": "stream",
          "name": "stdout",
          "text": [
            "epoch:9, acc: 0.812, loss: 0.837\n"
          ]
        },
        {
          "output_type": "stream",
          "name": "stderr",
          "text": [
            "Epoch 9:  50%|█████     | 315/624 [00:03<00:03, 101.49it/s]"
          ]
        },
        {
          "output_type": "stream",
          "name": "stdout",
          "text": [
            "epoch:9, acc: 0.844, loss: 0.799\n"
          ]
        },
        {
          "output_type": "stream",
          "name": "stderr",
          "text": [
            "Epoch 9:  67%|██████▋   | 421/624 [00:04<00:02, 101.42it/s]"
          ]
        },
        {
          "output_type": "stream",
          "name": "stdout",
          "text": [
            "epoch:9, acc: 0.750, loss: 0.973\n"
          ]
        },
        {
          "output_type": "stream",
          "name": "stderr",
          "text": [
            "Epoch 9:  82%|████████▏ | 514/624 [00:05<00:01, 96.76it/s]"
          ]
        },
        {
          "output_type": "stream",
          "name": "stdout",
          "text": [
            "epoch:9, acc: 0.875, loss: 0.703\n"
          ]
        },
        {
          "output_type": "stream",
          "name": "stderr",
          "text": [
            "Epoch 9:  99%|█████████▉| 618/624 [00:06<00:00, 97.49it/s]"
          ]
        },
        {
          "output_type": "stream",
          "name": "stdout",
          "text": [
            "epoch:9, acc: 0.688, loss: 0.961\n"
          ]
        },
        {
          "output_type": "stream",
          "name": "stderr",
          "text": [
            "\rEpoch 9: 100%|██████████| 624/624 [00:06<00:00, 95.41it/s]\n"
          ]
        }
      ]
    },
    {
      "cell_type": "code",
      "source": [
        "# 假设你在训练过程中已经累积了准确率和损失的值\n",
        "# accuracies 和 losses 是你已经累积的数据列表\n",
        "\n",
        "# 创建绘图窗口\n",
        "plt.figure(figsize=(12, 6))\n",
        "\n",
        "# 绘制准确率变化图\n",
        "plt.subplot(1, 2, 1)  # 创建1行2列的子图，选择第1个子图\n",
        "plt.plot(accuracies, label='Accuracy', color='#1d6fa5')\n",
        "plt.xlabel('Steps')\n",
        "plt.ylabel('Accuracy')\n",
        "plt.title('Accuracy over Training Steps')\n",
        "plt.legend()\n",
        "\n",
        "# 绘制损失变化图\n",
        "plt.subplot(1, 2, 2)  # 创建1行2列的子图，选择第2个子图\n",
        "plt.plot(losses, label='Loss', color='#e57211')\n",
        "plt.xlabel('Steps')\n",
        "plt.ylabel('Loss')\n",
        "plt.title('Loss over Training Steps')\n",
        "plt.legend()\n",
        "\n",
        "# 显示图像\n",
        "plt.tight_layout()  # 自动调整子图参数以适应图像区域\n",
        "plt.show()"
      ],
      "metadata": {
        "colab": {
          "base_uri": "https://localhost:8080/",
          "height": 329
        },
        "id": "ET7wOPtDUCYI",
        "outputId": "db0fe089-f177-4fd0-a8bc-4c8a1ddf111c"
      },
      "execution_count": 6,
      "outputs": [
        {
          "output_type": "display_data",
          "data": {
            "text/plain": [
              "<Figure size 1200x600 with 2 Axes>"
            ],
            "image/png": "[encoded data removed]"
          },
          "metadata": {}
        }
      ]
    },
    {
      "cell_type": "code",
      "source": [
        "data_test = (test_images.astype(np.float32)-127.5) / 127.5\n",
        "X = data_test\n",
        "y = test_labels\n",
        "\n",
        "output = myNeuralNet.forward(data_test)\n",
        "predictions = np.argmax(output, axis=1)\n",
        "if len(y.shape) == 2:\n",
        "    y = np.argmax(y, axis=1)\n",
        "accuracy = np.mean(predictions==y)\n",
        "print(accuracy)"
      ],
      "metadata": {
        "colab": {
          "base_uri": "https://localhost:8080/"
        },
        "id": "C2pR_-QvWMUx",
        "outputId": "10c7613f-04ee-42e3-fb46-1c309aacd30a"
      },
      "execution_count": 7,
      "outputs": [
        {
          "output_type": "stream",
          "name": "stdout",
          "text": [
            "0.8166816681668166\n"
          ]
        }
      ]
    },
    {
      "cell_type": "code",
      "source": [
        "image = test_images[random.randint(1, 9999)]\n",
        "output = myNeuralNet.forward(image)\n",
        "print(output)\n",
        "prediction = np.argmax(output, axis=1)\n",
        "print(f\"预测结果为{prediction}\")\n",
        "plt.imshow(image.reshape(28, 28))\n",
        "plt.axis('off')\n",
        "plt.show()\n"
      ],
      "metadata": {
        "colab": {
          "base_uri": "https://localhost:8080/",
          "height": 477
        },
        "id": "CyCK1dfmWumK",
        "outputId": "c78321b3-5972-4dca-91c2-2257ef1016d2"
      },
      "execution_count": 8,
      "outputs": [
        {
          "output_type": "stream",
          "name": "stdout",
          "text": [
            "[[4.65779226e-060 2.53583658e-154 1.23756685e-047 4.33751753e-106\n",
            "  1.73593534e-082 4.93720114e-078 1.00000000e+000 3.09009650e-166\n",
            "  1.55419199e-064 3.97024364e-116]]\n",
            "预测结果为[6]\n"
          ]
        },
        {
          "output_type": "display_data",
          "data": {
            "text/plain": [
              "<Figure size 640x480 with 1 Axes>"
            ],
            "image/png": "[encoded data removed]"
          },
          "metadata": {}
        }
      ]
    }
  ]
}